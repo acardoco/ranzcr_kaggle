{
 "cells": [
  {
   "cell_type": "code",
   "execution_count": 1,
   "metadata": {
    "_cell_guid": "b1076dfc-b9ad-4769-8c92-a6c4dae69d19",
    "_uuid": "8f2839f25d086af736a60e9eeb907d3b93b6e0e5",
    "execution": {
     "iopub.execute_input": "2021-03-11T10:09:40.758514Z",
     "iopub.status.busy": "2021-03-11T10:09:40.757640Z",
     "iopub.status.idle": "2021-03-11T10:09:42.217601Z",
     "shell.execute_reply": "2021-03-11T10:09:42.216809Z"
    },
    "papermill": {
     "duration": 1.482207,
     "end_time": "2021-03-11T10:09:42.217855",
     "exception": false,
     "start_time": "2021-03-11T10:09:40.735648",
     "status": "completed"
    },
    "tags": []
   },
   "outputs": [],
   "source": [
    "# This Python 3 environment comes with many helpful analytics libraries installed\n",
    "# It is defined by the kaggle/python Docker image: https://github.com/kaggle/docker-python\n",
    "# For example, here's several helpful packages to load\n",
    "\n",
    "import numpy as np # linear algebra\n",
    "import pandas as pd # data processing, CSV file I/O (e.g. pd.read_csv)\n",
    "\n",
    "# Input data files are available in the read-only \"../input/\" directory\n",
    "# For example, running this (by clicking run or pressing Shift+Enter) will list all files under the input directory\n",
    "\n",
    "import os\n",
    "# for dirname, _, filenames in os.walk('/kaggle/input'):\n",
    "#     for filename in filenames:\n",
    "#         print(os.path.join(dirname, filename))\n",
    "\n",
    "# You can write up to 20GB to the current directory (/kaggle/working/) that gets preserved as output when you create a version using \"Save & Run All\" \n",
    "# You can also write temporary files to /kaggle/temp/, but they won't be saved outside of the current session\n",
    "\n",
    "from sklearn.linear_model import LinearRegression\n",
    "from sklearn.ensemble import RandomForestClassifier\n",
    "\n",
    "import random\n",
    "\n",
    "def seed_torch(seed=42):\n",
    "    random.seed(seed)\n",
    "    os.environ['PYTHONHASHSEED'] = str(seed)\n",
    "    np.random.seed(seed)\n",
    "\n",
    "seed_torch(seed=666)"
   ]
  },
  {
   "cell_type": "code",
   "execution_count": 2,
   "metadata": {
    "execution": {
     "iopub.execute_input": "2021-03-11T10:09:42.253059Z",
     "iopub.status.busy": "2021-03-11T10:09:42.252152Z",
     "iopub.status.idle": "2021-03-11T10:09:42.450881Z",
     "shell.execute_reply": "2021-03-11T10:09:42.450121Z"
    },
    "papermill": {
     "duration": 0.219718,
     "end_time": "2021-03-11T10:09:42.451044",
     "exception": false,
     "start_time": "2021-03-11T10:09:42.231326",
     "status": "completed"
    },
    "tags": []
   },
   "outputs": [
    {
     "name": "stdout",
     "output_type": "stream",
     "text": [
      "(1245, 15)\n"
     ]
    },
    {
     "data": {
      "text/html": [
       "<div>\n",
       "<style scoped>\n",
       "    .dataframe tbody tr th:only-of-type {\n",
       "        vertical-align: middle;\n",
       "    }\n",
       "\n",
       "    .dataframe tbody tr th {\n",
       "        vertical-align: top;\n",
       "    }\n",
       "\n",
       "    .dataframe thead th {\n",
       "        text-align: right;\n",
       "    }\n",
       "</style>\n",
       "<table border=\"1\" class=\"dataframe\">\n",
       "  <thead>\n",
       "    <tr style=\"text-align: right;\">\n",
       "      <th></th>\n",
       "      <th>StudyInstanceUID</th>\n",
       "      <th>ETT - Abnormal</th>\n",
       "      <th>ETT - Borderline</th>\n",
       "      <th>ETT - Normal</th>\n",
       "      <th>NGT - Abnormal</th>\n",
       "      <th>NGT - Borderline</th>\n",
       "      <th>NGT - Incompletely Imaged</th>\n",
       "      <th>NGT - Normal</th>\n",
       "      <th>CVC - Abnormal</th>\n",
       "      <th>CVC - Borderline</th>\n",
       "      <th>CVC - Normal</th>\n",
       "      <th>Swan Ganz Catheter Present</th>\n",
       "      <th>PatientID</th>\n",
       "      <th>fold</th>\n",
       "      <th>fold_test</th>\n",
       "      <th>file_path</th>\n",
       "    </tr>\n",
       "  </thead>\n",
       "  <tbody>\n",
       "    <tr>\n",
       "      <th>0</th>\n",
       "      <td>1.2.826.0.1.3680043.8.498.68286643202323212801...</td>\n",
       "      <td>0</td>\n",
       "      <td>0</td>\n",
       "      <td>0</td>\n",
       "      <td>0</td>\n",
       "      <td>0</td>\n",
       "      <td>0</td>\n",
       "      <td>0</td>\n",
       "      <td>1</td>\n",
       "      <td>0</td>\n",
       "      <td>0</td>\n",
       "      <td>0</td>\n",
       "      <td>c31019814</td>\n",
       "      <td>0</td>\n",
       "      <td>0</td>\n",
       "      <td>../input/ranzcr-clip-catheter-line-classificat...</td>\n",
       "    </tr>\n",
       "    <tr>\n",
       "      <th>1</th>\n",
       "      <td>1.2.826.0.1.3680043.8.498.10050203009225938259...</td>\n",
       "      <td>0</td>\n",
       "      <td>0</td>\n",
       "      <td>0</td>\n",
       "      <td>0</td>\n",
       "      <td>0</td>\n",
       "      <td>0</td>\n",
       "      <td>0</td>\n",
       "      <td>0</td>\n",
       "      <td>0</td>\n",
       "      <td>1</td>\n",
       "      <td>0</td>\n",
       "      <td>207685cd1</td>\n",
       "      <td>0</td>\n",
       "      <td>0</td>\n",
       "      <td>../input/ranzcr-clip-catheter-line-classificat...</td>\n",
       "    </tr>\n",
       "    <tr>\n",
       "      <th>2</th>\n",
       "      <td>1.2.826.0.1.3680043.8.498.23522123195677570717...</td>\n",
       "      <td>0</td>\n",
       "      <td>0</td>\n",
       "      <td>0</td>\n",
       "      <td>0</td>\n",
       "      <td>0</td>\n",
       "      <td>0</td>\n",
       "      <td>0</td>\n",
       "      <td>1</td>\n",
       "      <td>0</td>\n",
       "      <td>0</td>\n",
       "      <td>0</td>\n",
       "      <td>20335f7d1</td>\n",
       "      <td>4</td>\n",
       "      <td>0</td>\n",
       "      <td>../input/ranzcr-clip-catheter-line-classificat...</td>\n",
       "    </tr>\n",
       "    <tr>\n",
       "      <th>3</th>\n",
       "      <td>1.2.826.0.1.3680043.8.498.96303608016739892857...</td>\n",
       "      <td>0</td>\n",
       "      <td>0</td>\n",
       "      <td>0</td>\n",
       "      <td>0</td>\n",
       "      <td>0</td>\n",
       "      <td>0</td>\n",
       "      <td>0</td>\n",
       "      <td>1</td>\n",
       "      <td>0</td>\n",
       "      <td>0</td>\n",
       "      <td>0</td>\n",
       "      <td>528f079f0</td>\n",
       "      <td>2</td>\n",
       "      <td>0</td>\n",
       "      <td>../input/ranzcr-clip-catheter-line-classificat...</td>\n",
       "    </tr>\n",
       "    <tr>\n",
       "      <th>4</th>\n",
       "      <td>1.2.826.0.1.3680043.8.498.30798392240062365831...</td>\n",
       "      <td>0</td>\n",
       "      <td>0</td>\n",
       "      <td>0</td>\n",
       "      <td>0</td>\n",
       "      <td>0</td>\n",
       "      <td>0</td>\n",
       "      <td>0</td>\n",
       "      <td>0</td>\n",
       "      <td>0</td>\n",
       "      <td>1</td>\n",
       "      <td>0</td>\n",
       "      <td>3c1fc81a3</td>\n",
       "      <td>2</td>\n",
       "      <td>0</td>\n",
       "      <td>../input/ranzcr-clip-catheter-line-classificat...</td>\n",
       "    </tr>\n",
       "  </tbody>\n",
       "</table>\n",
       "</div>"
      ],
      "text/plain": [
       "                                    StudyInstanceUID  ETT - Abnormal  \\\n",
       "0  1.2.826.0.1.3680043.8.498.68286643202323212801...               0   \n",
       "1  1.2.826.0.1.3680043.8.498.10050203009225938259...               0   \n",
       "2  1.2.826.0.1.3680043.8.498.23522123195677570717...               0   \n",
       "3  1.2.826.0.1.3680043.8.498.96303608016739892857...               0   \n",
       "4  1.2.826.0.1.3680043.8.498.30798392240062365831...               0   \n",
       "\n",
       "   ETT - Borderline  ETT - Normal  NGT - Abnormal  NGT - Borderline  \\\n",
       "0                 0             0               0                 0   \n",
       "1                 0             0               0                 0   \n",
       "2                 0             0               0                 0   \n",
       "3                 0             0               0                 0   \n",
       "4                 0             0               0                 0   \n",
       "\n",
       "   NGT - Incompletely Imaged  NGT - Normal  CVC - Abnormal  CVC - Borderline  \\\n",
       "0                          0             0               1                 0   \n",
       "1                          0             0               0                 0   \n",
       "2                          0             0               1                 0   \n",
       "3                          0             0               1                 0   \n",
       "4                          0             0               0                 0   \n",
       "\n",
       "   CVC - Normal  Swan Ganz Catheter Present  PatientID  fold  fold_test  \\\n",
       "0             0                           0  c31019814     0          0   \n",
       "1             1                           0  207685cd1     0          0   \n",
       "2             0                           0  20335f7d1     4          0   \n",
       "3             0                           0  528f079f0     2          0   \n",
       "4             1                           0  3c1fc81a3     2          0   \n",
       "\n",
       "                                           file_path  \n",
       "0  ../input/ranzcr-clip-catheter-line-classificat...  \n",
       "1  ../input/ranzcr-clip-catheter-line-classificat...  \n",
       "2  ../input/ranzcr-clip-catheter-line-classificat...  \n",
       "3  ../input/ranzcr-clip-catheter-line-classificat...  \n",
       "4  ../input/ranzcr-clip-catheter-line-classificat...  "
      ]
     },
     "execution_count": 2,
     "metadata": {},
     "output_type": "execute_result"
    }
   ],
   "source": [
    "TEST_PATH = '../input/ranzcr-clip-catheter-line-classification/test'\n",
    "FOLDS_PATH = '../input/split-k-folds/'\n",
    "TRAIN_PATH = '../input/ranzcr-clip-catheter-line-classification/train'\n",
    "\n",
    "target_size=11\n",
    "target_cols=['ETT - Abnormal', 'ETT - Borderline', 'ETT - Normal',\n",
    "             'NGT - Abnormal', 'NGT - Borderline', 'NGT - Incompletely Imaged', 'NGT - Normal', \n",
    "             'CVC - Abnormal', 'CVC - Borderline', 'CVC - Normal',\n",
    "             'Swan Ganz Catheter Present']\n",
    "\n",
    "# cargamos los DATOS\n",
    "dfx = pd.read_csv(FOLDS_PATH + \"train_folds.csv\") \n",
    " \n",
    "# filtramos. Por defecto dejo en \"0\" el fold_test\n",
    "df_test_fold = dfx[dfx.fold_test == 0].reset_index(drop=True)\n",
    "print(df_test_fold.shape)\n",
    "df_test_fold['file_path'] = df_test_fold.StudyInstanceUID.apply(lambda x: os.path.join('../input/ranzcr-clip-catheter-line-classification/train', f'{x}.jpg'))\n",
    "df_test_fold.head()"
   ]
  },
  {
   "cell_type": "code",
   "execution_count": 3,
   "metadata": {
    "execution": {
     "iopub.execute_input": "2021-03-11T10:09:42.487931Z",
     "iopub.status.busy": "2021-03-11T10:09:42.487041Z",
     "iopub.status.idle": "2021-03-11T10:09:42.490716Z",
     "shell.execute_reply": "2021-03-11T10:09:42.489871Z"
    },
    "papermill": {
     "duration": 0.025894,
     "end_time": "2021-03-11T10:09:42.490889",
     "exception": false,
     "start_time": "2021-03-11T10:09:42.464995",
     "status": "completed"
    },
    "tags": []
   },
   "outputs": [],
   "source": [
    "model_names = ['fold0', 'fold1', 'fold2', 'fold3', 'fold4'] * 3\n",
    "enet_type  = [ \n",
    "#     'efficientB5_512', 'efficientB5_512', 'efficientB5_512', 'efficientB5_512', 'efficientB5_512', \n",
    "#     'effficientB4-attention', 'effficientB4-attention', 'effficientB4-attention', 'effficientB4-attention', 'effficientB4-attention',\n",
    "#     'resnext50_32x4d', 'resnext50_32x4d', 'resnext50_32x4d', 'resnext50_32x4d', 'resnext50_32x4d',\n",
    "    'resnet200d_320', 'resnet200d_320', 'resnet200d_320', 'resnet200d_320', 'resnet200d_320',\n",
    "    'resnet200d_320_512', 'resnet200d_320_512', 'resnet200d_320_512', 'resnet200d_320_512', 'resnet200d_320_512',\n",
    "    'resnet200d_Mejores', 'resnet200d_Mejores', 'resnet200d_Mejores', 'resnet200d_Mejores', 'resnet200d_Mejores'\n",
    "]\n",
    "model_path  = [\n",
    "#         '../input/efficient-b5-chestx/efficientnet_b5_fold0_step0_best_loss_cpu.pth',\n",
    "#         '../input/efficient-b5-chestx/efficientnet_b5_fold1_step0_best_loss_cpu.pth',\n",
    "#          '../input/efficient-b5-chestx/efficientnet_b5_fold2_step0_best_loss_cpu.pth',\n",
    "#          '../input/efficient-b5-chestx/efficientnet_b5_fold3_step0_best_loss_cpu.pth',\n",
    "#          '../input/efficient-b5-chestx/efficientnet_b5_fold4_step0_best_loss_cpu.pth',\n",
    "#         '../input/efficientb4attention/efficientnet-b4_fold0_step0_best_loss_cpu.pth',\n",
    "#         '../input/efficientb4attention/efficientnet-b4_fold1_step0_best_loss.pth',\n",
    "#         '../input/efficientb4attention/efficientnet-b4_fold2_step0_best_loss_cpu.pth',\n",
    "#         '../input/efficientb4attention/efficientnet-b4_fold3_step0_best_loss.pth',\n",
    "#         '../input/efficientb4attention/efficientnet-b4_fold4_step0_best_loss_cpu.pth',\n",
    "#         '../input/resnext50-32x4d/resnext50_32x4d_fold0_step0_best_loss_cpu_12epochs.pth',\n",
    "#         '../input/resnext50-32x4d/resnext50_32x4d_fold1_step0_best_loss_cpu_12epochs.pth',\n",
    "#         '../input/resnext50-32x4d/resnext50_32x4d_fold2_step0_best_loss_12epochs.pth',\n",
    "#         '../input/resnext50-32x4d/resnext50_32x4d_fold3_step0_best_loss_12epochs.pth',\n",
    "#         '../input/resnext50-32x4d/resnext50_32x4d_fold4_step0_best_loss_12epochs.pth',   \n",
    "        '../input/resnet200d-640/resnet200d_320_fold0_step0_best_loss_cpu.pth',\n",
    "        '../input/resnet200d-640/resnet200d_320_fold1_step0_best_loss_cpu.pth',\n",
    "        '../input/resnet200d-640/resnet200d_320_fold2_step0_best_loss_cpu.pth',\n",
    "        '../input/resnet200d-640/resnet200d_320_fold3_step0_best_loss_cpu.pth',\n",
    "        '../input/resnet200d-640/resnet200d_320_fold4_step0_best_loss_cpu.pth',\n",
    "        '../input/resnet200d-chestx/resnet200d_320_fold0_step0_best_loss_cpu.pth',\n",
    "        '../input/resnet200d-chestx/resnet200d_320_fold1_step0_best_loss_cpu.pth',\n",
    "        '../input/resnet200d-chestx/resnet200d_320_fold2_step0_best_loss_cpu.pth',\n",
    "        '../input/resnet200d-chestx/resnet200d_320_fold3_step0_best_loss_cpu.pth',\n",
    "        '../input/resnet200d-chestx/resnet200d_320_fold4_step0_best_loss_cpu.pth',\n",
    "    '../input/mejores-modelos-encontrados/resnet200d_fold0_cv953.pth/resnet200d_fold0_cv953.pth',\n",
    "      '../input/mejores-modelos-encontrados/resnet200d_fold1_cv955.pth/resnet200d_fold1_cv955.pth',\n",
    "      '../input/mejores-modelos-encontrados/resnet200d_fold2_cv955.pth/resnet200d_fold2_cv955.pth',\n",
    "      '../input/mejores-modelos-encontrados/resnet200d_fold3_cv957.pth/resnet200d_fold3_cv957.pth',\n",
    "      '../input/mejores-modelos-encontrados/resnet200d_fold4_cv954.pth/resnet200d_fold4_cv954.pth'\n",
    "]"
   ]
  },
  {
   "cell_type": "code",
   "execution_count": 4,
   "metadata": {
    "execution": {
     "iopub.execute_input": "2021-03-11T10:09:42.524836Z",
     "iopub.status.busy": "2021-03-11T10:09:42.523733Z",
     "iopub.status.idle": "2021-03-11T10:09:42.528174Z",
     "shell.execute_reply": "2021-03-11T10:09:42.527641Z"
    },
    "papermill": {
     "duration": 0.023298,
     "end_time": "2021-03-11T10:09:42.528341",
     "exception": false,
     "start_time": "2021-03-11T10:09:42.505043",
     "status": "completed"
    },
    "tags": []
   },
   "outputs": [],
   "source": [
    "# model_names = ['fold0', 'fold1', 'fold2', 'fold3', 'fold4']\n",
    "\n",
    "# enet_type  = ['resnet200d_320', 'resnet200d_320', 'resnet200d_320', 'resnet200d_320', 'resnet200d_320']\n",
    "\n",
    "# model_path = [\n",
    "#     '../input/resnet200d-640/resnet200d_320_fold0_step0_best_loss_cpu.pth',\n",
    "#         '../input/resnet200d-640/resnet200d_320_fold1_step0_best_loss_cpu.pth',\n",
    "#         '../input/resnet200d-640/resnet200d_320_fold2_step0_best_loss_cpu.pth',\n",
    "#         '../input/resnet200d-640/resnet200d_320_fold3_step0_best_loss_cpu.pth',\n",
    "#         '../input/resnet200d-640/resnet200d_320_fold4_step0_best_loss_cpu.pth'\n",
    "# ]"
   ]
  },
  {
   "cell_type": "code",
   "execution_count": 5,
   "metadata": {
    "execution": {
     "iopub.execute_input": "2021-03-11T10:09:42.564733Z",
     "iopub.status.busy": "2021-03-11T10:09:42.563663Z",
     "iopub.status.idle": "2021-03-11T10:09:42.567240Z",
     "shell.execute_reply": "2021-03-11T10:09:42.566582Z"
    },
    "papermill": {
     "duration": 0.024904,
     "end_time": "2021-03-11T10:09:42.567405",
     "exception": false,
     "start_time": "2021-03-11T10:09:42.542501",
     "status": "completed"
    },
    "tags": []
   },
   "outputs": [],
   "source": [
    "# calculando pesos a partir del score\n",
    "def calculate_weigths_inverse(lista_scores):\n",
    "    \n",
    "    lista_scores = np.array(lista_scores)\n",
    "\n",
    "    weights = 100 - lista_scores\n",
    "    total_score = np.sum(weights)\n",
    "\n",
    "    weights = weights/total_score\n",
    "\n",
    "    return weights"
   ]
  },
  {
   "cell_type": "markdown",
   "metadata": {
    "papermill": {
     "duration": 0.014128,
     "end_time": "2021-03-11T10:09:42.596023",
     "exception": false,
     "start_time": "2021-03-11T10:09:42.581895",
     "status": "completed"
    },
    "tags": []
   },
   "source": [
    "Guardo todo en una lista"
   ]
  },
  {
   "cell_type": "code",
   "execution_count": 6,
   "metadata": {
    "execution": {
     "iopub.execute_input": "2021-03-11T10:09:42.631866Z",
     "iopub.status.busy": "2021-03-11T10:09:42.631198Z",
     "iopub.status.idle": "2021-03-11T10:09:43.004194Z",
     "shell.execute_reply": "2021-03-11T10:09:43.004728Z"
    },
    "papermill": {
     "duration": 0.393667,
     "end_time": "2021-03-11T10:09:43.004959",
     "exception": false,
     "start_time": "2021-03-11T10:09:42.611292",
     "status": "completed"
    },
    "tags": []
   },
   "outputs": [],
   "source": [
    "input_folds = []\n",
    "for i in range(len(enet_type)):\n",
    "    preds = pd.read_csv('../input/buscador-de-pesos-ranzcr/' + enet_type[i] + '_' + model_names[i] + '.csv')\n",
    "    input_folds.append(preds)"
   ]
  },
  {
   "cell_type": "markdown",
   "metadata": {
    "papermill": {
     "duration": 0.014183,
     "end_time": "2021-03-11T10:09:43.035053",
     "exception": false,
     "start_time": "2021-03-11T10:09:43.020870",
     "status": "completed"
    },
    "tags": []
   },
   "source": [
    "Creo un modelo por cada label y, luego, calculo la media de todos para asignar el peso final"
   ]
  },
  {
   "cell_type": "code",
   "execution_count": 7,
   "metadata": {
    "execution": {
     "iopub.execute_input": "2021-03-11T10:09:43.079838Z",
     "iopub.status.busy": "2021-03-11T10:09:43.078932Z",
     "iopub.status.idle": "2021-03-11T10:09:43.084401Z",
     "shell.execute_reply": "2021-03-11T10:09:43.083754Z"
    },
    "papermill": {
     "duration": 0.03478,
     "end_time": "2021-03-11T10:09:43.084579",
     "exception": false,
     "start_time": "2021-03-11T10:09:43.049799",
     "status": "completed"
    },
    "tags": []
   },
   "outputs": [
    {
     "data": {
      "text/html": [
       "<div>\n",
       "<style scoped>\n",
       "    .dataframe tbody tr th:only-of-type {\n",
       "        vertical-align: middle;\n",
       "    }\n",
       "\n",
       "    .dataframe tbody tr th {\n",
       "        vertical-align: top;\n",
       "    }\n",
       "\n",
       "    .dataframe thead th {\n",
       "        text-align: right;\n",
       "    }\n",
       "</style>\n",
       "<table border=\"1\" class=\"dataframe\">\n",
       "  <thead>\n",
       "    <tr style=\"text-align: right;\">\n",
       "      <th></th>\n",
       "      <th>ETT - Normal</th>\n",
       "    </tr>\n",
       "  </thead>\n",
       "  <tbody>\n",
       "    <tr>\n",
       "      <th>0</th>\n",
       "      <td>0.000078</td>\n",
       "    </tr>\n",
       "    <tr>\n",
       "      <th>1</th>\n",
       "      <td>0.001692</td>\n",
       "    </tr>\n",
       "    <tr>\n",
       "      <th>2</th>\n",
       "      <td>0.000003</td>\n",
       "    </tr>\n",
       "    <tr>\n",
       "      <th>3</th>\n",
       "      <td>0.000015</td>\n",
       "    </tr>\n",
       "    <tr>\n",
       "      <th>4</th>\n",
       "      <td>0.000006</td>\n",
       "    </tr>\n",
       "    <tr>\n",
       "      <th>...</th>\n",
       "      <td>...</td>\n",
       "    </tr>\n",
       "    <tr>\n",
       "      <th>1240</th>\n",
       "      <td>0.000002</td>\n",
       "    </tr>\n",
       "    <tr>\n",
       "      <th>1241</th>\n",
       "      <td>0.000002</td>\n",
       "    </tr>\n",
       "    <tr>\n",
       "      <th>1242</th>\n",
       "      <td>0.000019</td>\n",
       "    </tr>\n",
       "    <tr>\n",
       "      <th>1243</th>\n",
       "      <td>0.976278</td>\n",
       "    </tr>\n",
       "    <tr>\n",
       "      <th>1244</th>\n",
       "      <td>0.917287</td>\n",
       "    </tr>\n",
       "  </tbody>\n",
       "</table>\n",
       "<p>1245 rows × 1 columns</p>\n",
       "</div>"
      ],
      "text/plain": [
       "      ETT - Normal\n",
       "0         0.000078\n",
       "1         0.001692\n",
       "2         0.000003\n",
       "3         0.000015\n",
       "4         0.000006\n",
       "...            ...\n",
       "1240      0.000002\n",
       "1241      0.000002\n",
       "1242      0.000019\n",
       "1243      0.976278\n",
       "1244      0.917287\n",
       "\n",
       "[1245 rows x 1 columns]"
      ]
     },
     "execution_count": 7,
     "metadata": {},
     "output_type": "execute_result"
    }
   ],
   "source": [
    "input_folds[0][['ETT - Normal']]"
   ]
  },
  {
   "cell_type": "code",
   "execution_count": 8,
   "metadata": {
    "execution": {
     "iopub.execute_input": "2021-03-11T10:09:43.121535Z",
     "iopub.status.busy": "2021-03-11T10:09:43.120524Z",
     "iopub.status.idle": "2021-03-11T10:09:43.124721Z",
     "shell.execute_reply": "2021-03-11T10:09:43.124050Z"
    },
    "papermill": {
     "duration": 0.02557,
     "end_time": "2021-03-11T10:09:43.124868",
     "exception": false,
     "start_time": "2021-03-11T10:09:43.099298",
     "status": "completed"
    },
    "tags": []
   },
   "outputs": [],
   "source": [
    "def get_coeficients_normalized(coef):\n",
    "    suma = np.sum(coef)\n",
    "    return coef / suma\n",
    "\n",
    "def save_csv(target, coef):\n",
    "    names = [a + '_' + b for a, b in zip(enet_type, model_names)]\n",
    "    df_model_coef = pd.DataFrame(\n",
    "    {'name': names,\n",
    "     'weigth': coef\n",
    "    })\n",
    "    df_model_coef.to_csv(target + '_weigths.csv', index=False)\n",
    "    df_model_coef"
   ]
  },
  {
   "cell_type": "code",
   "execution_count": 9,
   "metadata": {
    "execution": {
     "iopub.execute_input": "2021-03-11T10:09:43.178154Z",
     "iopub.status.busy": "2021-03-11T10:09:43.176374Z",
     "iopub.status.idle": "2021-03-11T10:09:47.093068Z",
     "shell.execute_reply": "2021-03-11T10:09:47.093645Z"
    },
    "papermill": {
     "duration": 3.953002,
     "end_time": "2021-03-11T10:09:47.093873",
     "exception": false,
     "start_time": "2021-03-11T10:09:43.140871",
     "status": "completed"
    },
    "tags": []
   },
   "outputs": [
    {
     "name": "stdout",
     "output_type": "stream",
     "text": [
      "Searching weigths for ETT - Abnormal\n",
      "Score obtenido: 1.0\n",
      "El modelo con más peso es: resnet200d_Mejores_fold2\n",
      "El modelo con menos peso es: resnet200d_320_512_fold4\n",
      "[0.06669317 0.04302447 0.05484585 0.04310739 0.06364138 0.04012328\n",
      " 0.0439434  0.05445216 0.02628187 0.02136336 0.08331932 0.08865663\n",
      " 0.14907749 0.13081801 0.09065222]\n",
      "1.0\n",
      "---------------------------------------------------------------------------\n",
      "Searching weigths for ETT - Borderline\n",
      "Score obtenido: 1.0\n",
      "El modelo con más peso es: resnet200d_Mejores_fold0\n",
      "El modelo con menos peso es: resnet200d_320_fold4\n",
      "[0.02033815 0.0313666  0.03051545 0.03333222 0.01461991 0.02667525\n",
      " 0.02885898 0.0630181  0.05435063 0.01649515 0.17929778 0.12308516\n",
      " 0.12709617 0.1029055  0.14804495]\n",
      "1.0\n",
      "---------------------------------------------------------------------------\n",
      "Searching weigths for ETT - Normal\n",
      "Score obtenido: 1.0\n",
      "El modelo con más peso es: resnet200d_Mejores_fold4\n",
      "El modelo con menos peso es: resnet200d_320_fold0\n",
      "[0.00412671 0.01427642 0.00456654 0.08535431 0.00639324 0.02329198\n",
      " 0.05557146 0.07330596 0.01414541 0.03844037 0.13538968 0.11070071\n",
      " 0.12363745 0.11784083 0.19295893]\n",
      "1.0\n",
      "---------------------------------------------------------------------------\n",
      "Searching weigths for NGT - Abnormal\n",
      "Score obtenido: 1.0\n",
      "El modelo con más peso es: resnet200d_Mejores_fold2\n",
      "El modelo con menos peso es: resnet200d_320_fold2\n",
      "[0.03407834 0.03334994 0.01170499 0.05415363 0.02948823 0.07743657\n",
      " 0.05520127 0.05045724 0.04115485 0.04798002 0.09546177 0.06393093\n",
      " 0.17778465 0.08738839 0.14042918]\n",
      "0.9999999999999998\n",
      "---------------------------------------------------------------------------\n",
      "Searching weigths for NGT - Borderline\n",
      "Score obtenido: 1.0\n",
      "El modelo con más peso es: resnet200d_Mejores_fold0\n",
      "El modelo con menos peso es: resnet200d_320_fold2\n",
      "[0.01753881 0.01405266 0.01241812 0.01642665 0.01469175 0.03523642\n",
      " 0.07330848 0.05868367 0.03568545 0.02549573 0.27011944 0.11824531\n",
      " 0.05500237 0.16280628 0.09028886]\n",
      "1.0000000000000002\n",
      "---------------------------------------------------------------------------\n",
      "Searching weigths for NGT - Incompletely Imaged\n",
      "Score obtenido: 1.0\n",
      "El modelo con más peso es: resnet200d_Mejores_fold2\n",
      "El modelo con menos peso es: resnet200d_320_fold2\n",
      "[0.01929008 0.01250048 0.00495208 0.0128949  0.0129068  0.07932697\n",
      " 0.05603698 0.03006064 0.0217425  0.01655204 0.14407058 0.11803291\n",
      " 0.2500923  0.09543681 0.12610393]\n",
      "1.0\n",
      "---------------------------------------------------------------------------\n",
      "Searching weigths for NGT - Normal\n",
      "Score obtenido: 1.0\n",
      "El modelo con más peso es: resnet200d_Mejores_fold0\n",
      "El modelo con menos peso es: resnet200d_320_fold4\n",
      "[0.02447782 0.0065828  0.0084122  0.00594364 0.00461457 0.03187139\n",
      " 0.05597476 0.05785302 0.04463254 0.05708671 0.24008772 0.06671427\n",
      " 0.14314355 0.17198793 0.08061708]\n",
      "1.0\n",
      "---------------------------------------------------------------------------\n",
      "Searching weigths for CVC - Abnormal\n",
      "Score obtenido: 1.0\n",
      "El modelo con más peso es: resnet200d_Mejores_fold1\n",
      "El modelo con menos peso es: resnet200d_320_fold2\n",
      "[0.023516   0.02206268 0.01861745 0.01881352 0.02042642 0.05201955\n",
      " 0.04528985 0.0305857  0.05807083 0.0442131  0.09227384 0.17574517\n",
      " 0.16479134 0.08323722 0.15033731]\n",
      "1.0\n",
      "---------------------------------------------------------------------------\n",
      "Searching weigths for CVC - Borderline\n",
      "Score obtenido: 1.0\n",
      "El modelo con más peso es: resnet200d_Mejores_fold2\n",
      "El modelo con menos peso es: resnet200d_320_fold2\n",
      "[0.02106019 0.02702622 0.017618   0.02810231 0.02609821 0.03228055\n",
      " 0.0431116  0.02759028 0.0327369  0.03686714 0.15686005 0.13921828\n",
      " 0.20573454 0.1119962  0.09369956]\n",
      "0.9999999999999999\n",
      "---------------------------------------------------------------------------\n",
      "Searching weigths for CVC - Normal\n",
      "Score obtenido: 1.0\n",
      "El modelo con más peso es: resnet200d_Mejores_fold2\n",
      "El modelo con menos peso es: resnet200d_320_fold0\n",
      "[0.01545892 0.02071787 0.02404832 0.02639229 0.01727403 0.03352872\n",
      " 0.0351626  0.03113757 0.03589014 0.04156964 0.1456778  0.11470888\n",
      " 0.20460885 0.11074391 0.14308045]\n",
      "1.0\n",
      "---------------------------------------------------------------------------\n",
      "Searching weigths for Swan Ganz Catheter Present\n",
      "Score obtenido: 1.0\n",
      "El modelo con más peso es: resnet200d_320_512_fold1\n",
      "El modelo con menos peso es: resnet200d_320_fold0\n",
      "[0.03 0.06 0.05 0.08 0.06 0.08 0.09 0.06 0.04 0.07 0.06 0.08 0.08 0.09\n",
      " 0.07]\n",
      "1.0\n",
      "---------------------------------------------------------------------------\n"
     ]
    }
   ],
   "source": [
    "\n",
    "coeficientes = []\n",
    "for i in range(len(target_cols)):\n",
    "    # voy columna/target por columna\n",
    "    target = target_cols[i]\n",
    "    print('Searching weigths for ' + target)\n",
    "    # pillo las variables \n",
    "    cols_for_model = []\n",
    "    for j in range(len(enet_type)):\n",
    "        col = input_folds[j][[target]]\n",
    "        # lo paso a 0's o 1's\n",
    "#         col = (col >= 0.5).astype(int)\n",
    "        cols_for_model.append(col)\n",
    "    # creo el modelo\n",
    "    X = np.column_stack(cols_for_model)\n",
    "    y = df_test_fold[[target]].values.ravel()\n",
    "    reg = RandomForestClassifier().fit(X, y)\n",
    "    print('Score obtenido: ' + str(round(reg.score(X, y), 2)))\n",
    "    reg_coef = reg.feature_importances_\n",
    "    best_model_index = np.argmax(reg_coef)\n",
    "    worst_model_index = np.argmin(reg_coef)\n",
    "    print('El modelo con más peso es: ' + enet_type[best_model_index] + '_' + model_names[best_model_index])\n",
    "    print('El modelo con menos peso es: ' + enet_type[worst_model_index] + '_' + model_names[worst_model_index])\n",
    "    print(reg_coef)\n",
    "    print(np.sum(reg_coef))\n",
    "    coeficientes.append(reg_coef) # coef_\n",
    "#     coef_normalized = get_coeficients_normalized(reg_coef.ravel()) # solo en caso de no ser randomforest\n",
    "    save_csv(target, reg_coef)\n",
    "    print('---------------------------------------------------------------------------')"
   ]
  },
  {
   "cell_type": "code",
   "execution_count": 10,
   "metadata": {
    "execution": {
     "iopub.execute_input": "2021-03-11T10:09:47.140749Z",
     "iopub.status.busy": "2021-03-11T10:09:47.139918Z",
     "iopub.status.idle": "2021-03-11T10:09:47.144287Z",
     "shell.execute_reply": "2021-03-11T10:09:47.143763Z"
    },
    "papermill": {
     "duration": 0.03103,
     "end_time": "2021-03-11T10:09:47.144455",
     "exception": false,
     "start_time": "2021-03-11T10:09:47.113425",
     "status": "completed"
    },
    "tags": []
   },
   "outputs": [
    {
     "name": "stdout",
     "output_type": "stream",
     "text": [
      "El modelo con más peso es: resnet200d_Mejores_fold2\n",
      "El modelo con menos peso es: resnet200d_320_fold2\n",
      "[0.02514347 0.02590547 0.021609   0.03677462 0.0245595  0.04652643\n",
      " 0.05295085 0.0488313  0.0367901  0.03782393 0.14568709 0.10900348\n",
      " 0.15281534 0.11501464 0.12056477]\n"
     ]
    }
   ],
   "source": [
    "# aqui hago la media de coeficientes y tiro palante\n",
    "final_coefs = np.mean(coeficientes, axis=0).ravel()\n",
    "best_model_index = np.argmax(final_coefs)\n",
    "worst_model_index = np.argmin(final_coefs)\n",
    "print('El modelo con más peso es: ' + enet_type[best_model_index] + '_' + model_names[best_model_index])\n",
    "print('El modelo con menos peso es: ' + enet_type[worst_model_index] + '_' + model_names[worst_model_index])\n",
    "print(final_coefs)"
   ]
  },
  {
   "cell_type": "markdown",
   "metadata": {
    "papermill": {
     "duration": 0.018829,
     "end_time": "2021-03-11T10:09:47.182652",
     "exception": false,
     "start_time": "2021-03-11T10:09:47.163823",
     "status": "completed"
    },
    "tags": []
   },
   "source": [
    "Normalizo para que la suma valga 1"
   ]
  },
  {
   "cell_type": "code",
   "execution_count": 11,
   "metadata": {
    "execution": {
     "iopub.execute_input": "2021-03-11T10:09:47.226580Z",
     "iopub.status.busy": "2021-03-11T10:09:47.225773Z",
     "iopub.status.idle": "2021-03-11T10:09:47.230276Z",
     "shell.execute_reply": "2021-03-11T10:09:47.229677Z"
    },
    "papermill": {
     "duration": 0.028706,
     "end_time": "2021-03-11T10:09:47.230424",
     "exception": false,
     "start_time": "2021-03-11T10:09:47.201718",
     "status": "completed"
    },
    "tags": []
   },
   "outputs": [
    {
     "name": "stdout",
     "output_type": "stream",
     "text": [
      "1.0\n",
      "1.0\n"
     ]
    }
   ],
   "source": [
    "suma = np.sum(final_coefs)\n",
    "print(suma)\n",
    "final_coefs = final_coefs / suma\n",
    "print(np.sum(final_coefs))"
   ]
  },
  {
   "cell_type": "code",
   "execution_count": 12,
   "metadata": {
    "execution": {
     "iopub.execute_input": "2021-03-11T10:09:47.277207Z",
     "iopub.status.busy": "2021-03-11T10:09:47.276227Z",
     "iopub.status.idle": "2021-03-11T10:09:47.290641Z",
     "shell.execute_reply": "2021-03-11T10:09:47.290047Z"
    },
    "papermill": {
     "duration": 0.040934,
     "end_time": "2021-03-11T10:09:47.290820",
     "exception": false,
     "start_time": "2021-03-11T10:09:47.249886",
     "status": "completed"
    },
    "tags": []
   },
   "outputs": [
    {
     "data": {
      "text/html": [
       "<div>\n",
       "<style scoped>\n",
       "    .dataframe tbody tr th:only-of-type {\n",
       "        vertical-align: middle;\n",
       "    }\n",
       "\n",
       "    .dataframe tbody tr th {\n",
       "        vertical-align: top;\n",
       "    }\n",
       "\n",
       "    .dataframe thead th {\n",
       "        text-align: right;\n",
       "    }\n",
       "</style>\n",
       "<table border=\"1\" class=\"dataframe\">\n",
       "  <thead>\n",
       "    <tr style=\"text-align: right;\">\n",
       "      <th></th>\n",
       "      <th>name</th>\n",
       "      <th>weigth</th>\n",
       "    </tr>\n",
       "  </thead>\n",
       "  <tbody>\n",
       "    <tr>\n",
       "      <th>12</th>\n",
       "      <td>resnet200d_Mejores_fold2</td>\n",
       "      <td>0.152815</td>\n",
       "    </tr>\n",
       "    <tr>\n",
       "      <th>10</th>\n",
       "      <td>resnet200d_Mejores_fold0</td>\n",
       "      <td>0.145687</td>\n",
       "    </tr>\n",
       "    <tr>\n",
       "      <th>14</th>\n",
       "      <td>resnet200d_Mejores_fold4</td>\n",
       "      <td>0.120565</td>\n",
       "    </tr>\n",
       "    <tr>\n",
       "      <th>13</th>\n",
       "      <td>resnet200d_Mejores_fold3</td>\n",
       "      <td>0.115015</td>\n",
       "    </tr>\n",
       "    <tr>\n",
       "      <th>11</th>\n",
       "      <td>resnet200d_Mejores_fold1</td>\n",
       "      <td>0.109003</td>\n",
       "    </tr>\n",
       "    <tr>\n",
       "      <th>6</th>\n",
       "      <td>resnet200d_320_512_fold1</td>\n",
       "      <td>0.052951</td>\n",
       "    </tr>\n",
       "    <tr>\n",
       "      <th>7</th>\n",
       "      <td>resnet200d_320_512_fold2</td>\n",
       "      <td>0.048831</td>\n",
       "    </tr>\n",
       "    <tr>\n",
       "      <th>5</th>\n",
       "      <td>resnet200d_320_512_fold0</td>\n",
       "      <td>0.046526</td>\n",
       "    </tr>\n",
       "    <tr>\n",
       "      <th>9</th>\n",
       "      <td>resnet200d_320_512_fold4</td>\n",
       "      <td>0.037824</td>\n",
       "    </tr>\n",
       "    <tr>\n",
       "      <th>8</th>\n",
       "      <td>resnet200d_320_512_fold3</td>\n",
       "      <td>0.036790</td>\n",
       "    </tr>\n",
       "    <tr>\n",
       "      <th>3</th>\n",
       "      <td>resnet200d_320_fold3</td>\n",
       "      <td>0.036775</td>\n",
       "    </tr>\n",
       "    <tr>\n",
       "      <th>1</th>\n",
       "      <td>resnet200d_320_fold1</td>\n",
       "      <td>0.025905</td>\n",
       "    </tr>\n",
       "    <tr>\n",
       "      <th>0</th>\n",
       "      <td>resnet200d_320_fold0</td>\n",
       "      <td>0.025143</td>\n",
       "    </tr>\n",
       "    <tr>\n",
       "      <th>4</th>\n",
       "      <td>resnet200d_320_fold4</td>\n",
       "      <td>0.024560</td>\n",
       "    </tr>\n",
       "    <tr>\n",
       "      <th>2</th>\n",
       "      <td>resnet200d_320_fold2</td>\n",
       "      <td>0.021609</td>\n",
       "    </tr>\n",
       "  </tbody>\n",
       "</table>\n",
       "</div>"
      ],
      "text/plain": [
       "                        name    weigth\n",
       "12  resnet200d_Mejores_fold2  0.152815\n",
       "10  resnet200d_Mejores_fold0  0.145687\n",
       "14  resnet200d_Mejores_fold4  0.120565\n",
       "13  resnet200d_Mejores_fold3  0.115015\n",
       "11  resnet200d_Mejores_fold1  0.109003\n",
       "6   resnet200d_320_512_fold1  0.052951\n",
       "7   resnet200d_320_512_fold2  0.048831\n",
       "5   resnet200d_320_512_fold0  0.046526\n",
       "9   resnet200d_320_512_fold4  0.037824\n",
       "8   resnet200d_320_512_fold3  0.036790\n",
       "3       resnet200d_320_fold3  0.036775\n",
       "1       resnet200d_320_fold1  0.025905\n",
       "0       resnet200d_320_fold0  0.025143\n",
       "4       resnet200d_320_fold4  0.024560\n",
       "2       resnet200d_320_fold2  0.021609"
      ]
     },
     "execution_count": 12,
     "metadata": {},
     "output_type": "execute_result"
    }
   ],
   "source": [
    "# guardo\n",
    "# save in a csv\n",
    "names = [a + '_' + b for a, b in zip(enet_type, model_names)]\n",
    "df_model_coef = pd.DataFrame(\n",
    "    {'name': names,\n",
    "     'weigth': final_coefs\n",
    "    })\n",
    "df_model_coef.to_csv('models_weigths.csv', index=False)\n",
    "df_model_coef.sort_values(by=['weigth'], ascending=False)"
   ]
  },
  {
   "cell_type": "code",
   "execution_count": 13,
   "metadata": {
    "execution": {
     "iopub.execute_input": "2021-03-11T10:09:47.338275Z",
     "iopub.status.busy": "2021-03-11T10:09:47.337624Z",
     "iopub.status.idle": "2021-03-11T10:09:47.340459Z",
     "shell.execute_reply": "2021-03-11T10:09:47.341114Z"
    },
    "papermill": {
     "duration": 0.029864,
     "end_time": "2021-03-11T10:09:47.341316",
     "exception": false,
     "start_time": "2021-03-11T10:09:47.311452",
     "status": "completed"
    },
    "tags": []
   },
   "outputs": [],
   "source": [
    "# x = np.random.rand(10, 25)\n",
    "# a = df_model_coef[['weigth']].values.flatten()\n",
    "\n",
    "# np.average(x, axis=1, weights = a)"
   ]
  },
  {
   "cell_type": "markdown",
   "metadata": {
    "papermill": {
     "duration": 0.01991,
     "end_time": "2021-03-11T10:09:47.381588",
     "exception": false,
     "start_time": "2021-03-11T10:09:47.361678",
     "status": "completed"
    },
    "tags": []
   },
   "source": [
    "ACCURACIES"
   ]
  },
  {
   "cell_type": "code",
   "execution_count": 14,
   "metadata": {
    "execution": {
     "iopub.execute_input": "2021-03-11T10:09:47.425942Z",
     "iopub.status.busy": "2021-03-11T10:09:47.425279Z",
     "iopub.status.idle": "2021-03-11T10:09:47.435440Z",
     "shell.execute_reply": "2021-03-11T10:09:47.434732Z"
    },
    "papermill": {
     "duration": 0.033747,
     "end_time": "2021-03-11T10:09:47.435613",
     "exception": false,
     "start_time": "2021-03-11T10:09:47.401866",
     "status": "completed"
    },
    "tags": []
   },
   "outputs": [],
   "source": [
    "# funcioens un poco cambiadas para este notebook\n",
    "def assign_weights_by_target(preds):\n",
    "    final_preds = np.zeros((preds[0].shape[0], 11))\n",
    "    # recorro las columnas\n",
    "    for i in range(len(target_cols)):\n",
    "        target = target_cols[i]\n",
    "        target_w = pd.read_csv('./' + target + '_weigths.csv').values\n",
    "        # recorro los modelos\n",
    "        for j in range(len(enet_type)):\n",
    "            # preds por target\n",
    "            model_preds = preds[j]\n",
    "            model_preds_target = model_preds[:, i]\n",
    "            # weigth\n",
    "            weigth = target_w[j, 1]\n",
    "            model_preds_target = model_preds_target * weigth\n",
    "            final_preds[:, i] += model_preds_target\n",
    "    \n",
    "    return final_preds\n",
    "\n",
    "def assign_weigths(preds):\n",
    "    final_preds = np.zeros((preds[0].shape[0], 11))\n",
    "    weigths = final_coefs\n",
    "    for j in range(len(enet_type)):\n",
    "        model_preds = preds[j]\n",
    "        model_preds = model_preds * weigths[j]\n",
    "        final_preds += model_preds\n",
    "        \n",
    "    return final_preds"
   ]
  },
  {
   "cell_type": "code",
   "execution_count": 15,
   "metadata": {
    "execution": {
     "iopub.execute_input": "2021-03-11T10:09:47.483334Z",
     "iopub.status.busy": "2021-03-11T10:09:47.482714Z",
     "iopub.status.idle": "2021-03-11T10:09:47.735773Z",
     "shell.execute_reply": "2021-03-11T10:09:47.735085Z"
    },
    "papermill": {
     "duration": 0.279947,
     "end_time": "2021-03-11T10:09:47.735929",
     "exception": false,
     "start_time": "2021-03-11T10:09:47.455982",
     "status": "completed"
    },
    "tags": []
   },
   "outputs": [],
   "source": [
    "test_preds = []\n",
    "for i in range(len(enet_type)):\n",
    "    preds = pd.read_csv('../input/buscador-de-pesos-ranzcr/' + enet_type[i] + '_' + model_names[i] + '.csv')\n",
    "    preds = preds.iloc[:, 1:12].values\n",
    "    test_preds.append(preds)"
   ]
  },
  {
   "cell_type": "code",
   "execution_count": 16,
   "metadata": {
    "execution": {
     "iopub.execute_input": "2021-03-11T10:09:47.782296Z",
     "iopub.status.busy": "2021-03-11T10:09:47.781338Z",
     "iopub.status.idle": "2021-03-11T10:09:47.866912Z",
     "shell.execute_reply": "2021-03-11T10:09:47.866299Z"
    },
    "papermill": {
     "duration": 0.109768,
     "end_time": "2021-03-11T10:09:47.867096",
     "exception": false,
     "start_time": "2021-03-11T10:09:47.757328",
     "status": "completed"
    },
    "tags": []
   },
   "outputs": [
    {
     "name": "stdout",
     "output_type": "stream",
     "text": [
      "Final ACC for this fold: 0.9716265745920509\n",
      "Final ACC for this fold: 0.9793306403094177\n",
      "Final ACC for this fold: 0.9807009183127575\n"
     ]
    }
   ],
   "source": [
    "from sklearn.metrics import roc_auc_score\n",
    "\n",
    "def get_auc(y_pred, y_real):\n",
    "    acc_fold = np.mean([roc_auc_score(y_real[:, i], y_pred[:, i]) for i in range(11)])\n",
    "\n",
    "    print(\"Final ACC for this fold:\", acc_fold)\n",
    "    \n",
    "y_real = df_test_fold.iloc[:, 1:12].values\n",
    "    \n",
    "# media\n",
    "get_auc(np.mean(test_preds, axis = 0), y_real)\n",
    "\n",
    "# pesos generales\n",
    "y_preds = assign_weigths(test_preds)\n",
    "get_auc(y_preds, y_real)\n",
    "\n",
    "# pesos por target\n",
    "y_preds = assign_weights_by_target(test_preds)\n",
    "get_auc(y_preds, y_real)"
   ]
  }
 ],
 "metadata": {
  "kernelspec": {
   "display_name": "Python 3",
   "language": "python",
   "name": "python3"
  },
  "language_info": {
   "codemirror_mode": {
    "name": "ipython",
    "version": 3
   },
   "file_extension": ".py",
   "mimetype": "text/x-python",
   "name": "python",
   "nbconvert_exporter": "python",
   "pygments_lexer": "ipython3",
   "version": "3.7.9"
  },
  "papermill": {
   "default_parameters": {},
   "duration": 13.724667,
   "end_time": "2021-03-11T10:09:48.701323",
   "environment_variables": {},
   "exception": null,
   "input_path": "__notebook__.ipynb",
   "output_path": "__notebook__.ipynb",
   "parameters": {},
   "start_time": "2021-03-11T10:09:34.976656",
   "version": "2.2.2"
  }
 },
 "nbformat": 4,
 "nbformat_minor": 4
}
